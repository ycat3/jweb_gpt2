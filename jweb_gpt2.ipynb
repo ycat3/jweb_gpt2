{
 "cells": [
  {
   "cell_type": "markdown",
   "id": "ff6d1bfb-c36b-4521-a3cc-a34773d7b948",
   "metadata": {},
   "source": [
    "jweb 日本語GPT2"
   ]
  },
  {
   "cell_type": "code",
   "execution_count": 1,
   "id": "54ed41ea-73ce-452b-a341-e8facb376c57",
   "metadata": {
    "tags": []
   },
   "outputs": [],
   "source": [
    "import torch\n",
    "from transformers import T5Tokenizer, AutoModelForCausalLM, T5ForConditionalGeneration, GPT2LMHeadModel"
   ]
  },
  {
   "cell_type": "code",
   "execution_count": 2,
   "id": "33a2f241-5dff-4f77-8582-354de8635fbf",
   "metadata": {
    "tags": []
   },
   "outputs": [
    {
     "name": "stderr",
     "output_type": "stream",
     "text": [
      "Special tokens have been added in the vocabulary, make sure the associated word embeddings are fine-tuned or trained.\n"
     ]
    }
   ],
   "source": [
    "#tokenizer(字句解析)はT5Tokenizerを使用する\n",
    "tokenizer = T5Tokenizer.from_pretrained(\"jweb/japanese-soseki-gpt2-1b\", use_auth_token=access_token)"
   ]
  },
  {
   "cell_type": "code",
   "execution_count": 3,
   "id": "e799f1d9-acd2-4308-b39a-697fb29e0570",
   "metadata": {},
   "outputs": [],
   "source": [
    "model = AutoModelForCausalLM.from_pretrained(\"jweb/japanese-soseki-gpt2-1b\", use_auth_token=access_token)"
   ]
  },
  {
   "cell_type": "code",
   "execution_count": 4,
   "id": "f1b29674-be7d-4339-9fc8-a4499a35a949",
   "metadata": {},
   "outputs": [],
   "source": [
    "#CUDA対応のGPUがあれば使用する\n",
    "if torch.cuda.is_available():\n",
    "    model = model.to(\"cuda\")"
   ]
  },
  {
   "cell_type": "code",
   "execution_count": 5,
   "id": "6b0d9c52-35be-4d92-960f-29ee1978c6d4",
   "metadata": {},
   "outputs": [],
   "source": [
    "text = \"夏目漱石は、\"\n",
    "#text = \"私は三流小説家と言われているのは知っているが、小説家に一流も二流も、三流もない、小説を書くだけだ。批評家は嫌いだ。女も嫌いだ\""
   ]
  },
  {
   "cell_type": "code",
   "execution_count": 6,
   "id": "7fbbdc45-bd18-4cf6-9922-528bfac41ae0",
   "metadata": {},
   "outputs": [],
   "source": [
    "token_ids = tokenizer.encode(text, add_special_tokens=False, return_tensors=\"pt\")"
   ]
  },
  {
   "cell_type": "code",
   "execution_count": 7,
   "id": "c08193b8-c444-49e6-9b71-272cc24f41c3",
   "metadata": {},
   "outputs": [],
   "source": [
    "with torch.no_grad():\n",
    "    output_ids = model.generate(\n",
    "        token_ids.to(model.device),\n",
    "        max_length=128,\n",
    "        min_length=40,\n",
    "        do_sample=True,\n",
    "        repetition_penalty= 1.6,\n",
    "        early_stopping= True,\n",
    "        num_beams= 5,\n",
    "        temperature= 1.0,\n",
    "        top_k=500,\n",
    "        top_p=0.95,\n",
    "        pad_token_id=tokenizer.pad_token_id,\n",
    "        bos_token_id=tokenizer.bos_token_id,\n",
    "        eos_token_id=tokenizer.eos_token_id\n",
    "    )"
   ]
  },
  {
   "cell_type": "code",
   "execution_count": 8,
   "id": "864e1a34-2b5e-4513-ab59-4d9d5fc97443",
   "metadata": {},
   "outputs": [
    {
     "name": "stdout",
     "output_type": "stream",
     "text": [
      "夏目漱石は、明治の文明開化の波に乗って、西洋文化を取り入れようとしていた。しかし、当時の日本人は、外国から入ってくるものよりも、日本古来のものを大切にする傾向が強かった。だから、漱石も、その矛盾に苦しんだのである。この矛盾は、日本の歴史が証明している。日本は、万世一系の天皇を戴き、神代より連綿と続いてきた国柄である。それなのに、明治になって、西洋の文明を取り入れてしまった。その結果として、日本古来のものが破壊されてしまった。漱石は、それを嘆いたのである。</s>\n"
     ]
    }
   ],
   "source": [
    "output = tokenizer.decode(output_ids.tolist()[0])\n",
    "print(output)  "
   ]
  },
  {
   "cell_type": "markdown",
   "id": "e6ab0d59-e39a-4511-9de1-7949d8edaef5",
   "metadata": {},
   "source": [
    "# sample output:  夏目漱石は、明治時代を代表する文豪です。夏目漱石の代表作は「吾輩は猫である」や「坊っちゃん」、「草枕」「三四郎」、それに「虞美人草(ぐびじんそう)」などたくさんあります。"
   ]
  }
 ],
 "metadata": {
  "kernelspec": {
   "display_name": "Python 3 (ipykernel)",
   "language": "python",
   "name": "python3"
  },
  "language_info": {
   "codemirror_mode": {
    "name": "ipython",
    "version": 3
   },
   "file_extension": ".py",
   "mimetype": "text/x-python",
   "name": "python",
   "nbconvert_exporter": "python",
   "pygments_lexer": "ipython3",
   "version": "3.9.7"
  }
 },
 "nbformat": 4,
 "nbformat_minor": 5
}
